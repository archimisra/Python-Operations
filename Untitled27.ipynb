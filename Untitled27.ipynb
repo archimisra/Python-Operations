{
  "nbformat": 4,
  "nbformat_minor": 0,
  "metadata": {
    "colab": {
      "provenance": [],
      "authorship_tag": "ABX9TyPH3LP38yheuWq/oTsuEZCN",
      "include_colab_link": true
    },
    "kernelspec": {
      "name": "python3",
      "display_name": "Python 3"
    },
    "language_info": {
      "name": "python"
    }
  },
  "cells": [
    {
      "cell_type": "markdown",
      "metadata": {
        "id": "view-in-github",
        "colab_type": "text"
      },
      "source": [
        "<a href=\"https://colab.research.google.com/github/archimisra/Python-Operations/blob/main/Untitled27.ipynb\" target=\"_parent\"><img src=\"https://colab.research.google.com/assets/colab-badge.svg\" alt=\"Open In Colab\"/></a>"
      ]
    },
    {
      "cell_type": "code",
      "execution_count": 1,
      "metadata": {
        "colab": {
          "base_uri": "https://localhost:8080/"
        },
        "id": "3PbK0eAmXKP4",
        "outputId": "1a29537d-13b9-4bf8-9b3d-1a3fb3662b4e"
      },
      "outputs": [
        {
          "output_type": "stream",
          "name": "stdout",
          "text": [
            "Ford\n"
          ]
        }
      ],
      "source": [
        "x = {\n",
        " \"brand\": \"Ford\",\n",
        " \"model\": \"eco\",\n",
        " \"year\": 1992\n",
        "}\n",
        "print(x[\"brand\"])"
      ]
    },
    {
      "cell_type": "code",
      "source": [
        "x = {\n",
        " \"brand\": \"Ford\",\n",
        " \"model\": \"eco\",\n",
        " \"year\": 1992,\n",
        " \"year\": 2024\n",
        "}\n",
        "print(x[\"year\"])"
      ],
      "metadata": {
        "colab": {
          "base_uri": "https://localhost:8080/"
        },
        "id": "I4vTaZoRYTFk",
        "outputId": "ddb498c8-22a0-4b74-ead0-8bec5baa238c"
      },
      "execution_count": 3,
      "outputs": [
        {
          "output_type": "stream",
          "name": "stdout",
          "text": [
            "2024\n"
          ]
        }
      ]
    },
    {
      "cell_type": "code",
      "source": [
        "x = {\n",
        " \"brand\": \"Ford\",\n",
        " \"model\": \"eco\",\n",
        "}\n",
        "print(len(x))"
      ],
      "metadata": {
        "colab": {
          "base_uri": "https://localhost:8080/"
        },
        "id": "K7F58gVYYsMH",
        "outputId": "5b421b01-9103-4c70-b459-f17dcfc38781"
      },
      "execution_count": 5,
      "outputs": [
        {
          "output_type": "stream",
          "name": "stdout",
          "text": [
            "2\n"
          ]
        }
      ]
    },
    {
      "cell_type": "code",
      "source": [
        "x = {\n",
        " \"brand\": \"Ford\",\n",
        " \"model\": \"eco\",\n",
        " \"year\": 1992,\n",
        " \"color\": [\"red\",\"white\",\"blue\"]\n",
        "}\n",
        "print(type(x))"
      ],
      "metadata": {
        "colab": {
          "base_uri": "https://localhost:8080/"
        },
        "id": "3E8XJp8gY3-o",
        "outputId": "2d663747-032c-4dfb-f011-3b496a93fef5"
      },
      "execution_count": 6,
      "outputs": [
        {
          "output_type": "stream",
          "name": "stdout",
          "text": [
            "<class 'dict'>\n"
          ]
        }
      ]
    },
    {
      "cell_type": "code",
      "source": [
        "x = dict(name= \"ram\", age = 19, Class = 12)\n",
        "print(x)"
      ],
      "metadata": {
        "colab": {
          "base_uri": "https://localhost:8080/"
        },
        "id": "rqIkny8sZhYF",
        "outputId": "676d4782-a3f3-46fd-878e-4bdd96455532"
      },
      "execution_count": 9,
      "outputs": [
        {
          "output_type": "stream",
          "name": "stdout",
          "text": [
            "{'name': 'ram', 'age': 19, 'Class': 12}\n"
          ]
        }
      ]
    },
    {
      "cell_type": "code",
      "source": [
        "x = {\n",
        " \"brand\": \"Ford\",\n",
        " \"model\": \"eco\",\n",
        " \"year\": 1992,\n",
        " \"color\": [\"red\",\"white\",\"blue\"]\n",
        "}\n",
        "y = x.get(\"brand\")\n",
        "print(y)"
      ],
      "metadata": {
        "colab": {
          "base_uri": "https://localhost:8080/"
        },
        "id": "zP1WtAcoaKOB",
        "outputId": "f23b294d-eb6a-442b-ebf7-ea95dff9b46a"
      },
      "execution_count": 11,
      "outputs": [
        {
          "output_type": "stream",
          "name": "stdout",
          "text": [
            "Ford\n"
          ]
        }
      ]
    },
    {
      "cell_type": "code",
      "source": [
        "x = {\n",
        " \"brand\": \"Ford\",\n",
        " \"model\": \"eco\",\n",
        " \"year\": 1992,\n",
        " \"color\": [\"red\",\"white\",\"blue\"]\n",
        "}\n",
        "y = x.keys()\n",
        "print(y)\n",
        "x[\"Type\"]=\"suv\""
      ],
      "metadata": {
        "colab": {
          "base_uri": "https://localhost:8080/"
        },
        "id": "euZyhSW4a_nu",
        "outputId": "6d4e1602-11fe-4e79-a834-edcafa236608"
      },
      "execution_count": 12,
      "outputs": [
        {
          "output_type": "stream",
          "name": "stdout",
          "text": [
            "dict_keys(['brand', 'model', 'year', 'color'])\n"
          ]
        }
      ]
    },
    {
      "cell_type": "code",
      "source": [
        "x = {\n",
        " \"brand\": \"Ford\",\n",
        " \"model\": \"eco\",\n",
        " \"year\": 1992,\n",
        " \"color\": [\"red\",\"white\",\"blue\"]\n",
        "}\n",
        "x.update({\"year\": 2024})\n",
        "print(x)\n"
      ],
      "metadata": {
        "colab": {
          "base_uri": "https://localhost:8080/"
        },
        "id": "fJTbBOQwczrt",
        "outputId": "54c41127-86a1-49fc-d888-2a3425b579b1"
      },
      "execution_count": 13,
      "outputs": [
        {
          "output_type": "stream",
          "name": "stdout",
          "text": [
            "{'brand': 'Ford', 'model': 'eco', 'year': 2024, 'color': ['red', 'white', 'blue']}\n"
          ]
        }
      ]
    },
    {
      "cell_type": "code",
      "source": [
        "# Create a dictionary of 3 students and their marks\n",
        "students = {\n",
        "    \"Arjun\": 85,\n",
        "    \"Maya\": 90,\n",
        "    \"Ravi\": 78\n",
        "}\n",
        "\n",
        "# Add a new student\n",
        "students[\"Sneha\"] = 88\n",
        "\n",
        "# Update one student's marks\n",
        "students[\"Ravi\"] = 82\n",
        "\n",
        "# Delete one student entry\n",
        "del students[\"Maya\"]\n",
        "\n",
        "# Print all keys (student names)\n",
        "print(\"Student Names:\")\n",
        "for name in students.keys():\n",
        "    print(name)\n",
        "\n",
        "# Print all values (marks)\n",
        "print(\"\\nMarks:\")\n",
        "for marks in students.values():\n",
        "    print(marks)\n"
      ],
      "metadata": {
        "colab": {
          "base_uri": "https://localhost:8080/"
        },
        "id": "0_jrzZsnpezZ",
        "outputId": "1ef1dbfe-6690-452a-eebb-9cd99e0e4573"
      },
      "execution_count": 14,
      "outputs": [
        {
          "output_type": "stream",
          "name": "stdout",
          "text": [
            "Student Names:\n",
            "Arjun\n",
            "Ravi\n",
            "Sneha\n",
            "\n",
            "Marks:\n",
            "85\n",
            "82\n",
            "88\n"
          ]
        }
      ]
    },
    {
      "cell_type": "code",
      "source": [
        "# Given dictionary\n",
        "fruits = {\"apple\": 50, \"banana\": 20, \"cherry\": 30}\n",
        "\n",
        "# Find the total stock quantity\n",
        "total_stock = sum(fruits.values())\n",
        "print(\"Total stock quantity:\", total_stock)\n",
        "\n",
        "# Check if \"mango\" exists\n",
        "if \"mango\" in fruits:\n",
        "    print(\"Mango already exists.\")\n",
        "else:\n",
        "    # Add mango if it doesn’t exist\n",
        "    fruits[\"mango\"] = 40\n",
        "    print(\"Mango added with quantity 40.\")\n",
        "\n",
        "# Print updated dictionary\n",
        "print(\"Updated fruits dictionary:\", fruits)\n"
      ],
      "metadata": {
        "colab": {
          "base_uri": "https://localhost:8080/"
        },
        "id": "nmLw2JnAsFVj",
        "outputId": "4a5443dc-85e0-4f59-a969-e139cd9223a6"
      },
      "execution_count": 15,
      "outputs": [
        {
          "output_type": "stream",
          "name": "stdout",
          "text": [
            "Total stock quantity: 100\n",
            "Mango added with quantity 40.\n",
            "Updated fruits dictionary: {'apple': 50, 'banana': 20, 'cherry': 30, 'mango': 40}\n"
          ]
        }
      ]
    },
    {
      "cell_type": "code",
      "source": [
        "# Take input from the user\n",
        "word = input(\"Enter a word: \")\n",
        "\n",
        "# Create an empty dictionary to store character frequencies\n",
        "frequency = {}\n",
        "\n",
        "# Count each character\n",
        "for char in word:\n",
        "    if char in frequency:\n",
        "        frequency[char] += 1\n",
        "    else:\n",
        "        frequency[char] = 1\n",
        "\n",
        "# Print the frequency of each character\n",
        "print(\"Character frequencies:\")\n",
        "for char, count in frequency.items():\n",
        "    print(f\"{char}: {count}\")\n"
      ],
      "metadata": {
        "colab": {
          "base_uri": "https://localhost:8080/"
        },
        "id": "3toHdyR2sQs8",
        "outputId": "dc8089ed-2611-4f14-d8d8-f1cecda95fd7"
      },
      "execution_count": 16,
      "outputs": [
        {
          "output_type": "stream",
          "name": "stdout",
          "text": [
            "Enter a word: Archi Misra\n",
            "Character frequencies:\n",
            "A: 1\n",
            "r: 2\n",
            "c: 1\n",
            "h: 1\n",
            "i: 2\n",
            " : 1\n",
            "M: 1\n",
            "s: 1\n",
            "a: 1\n"
          ]
        }
      ]
    },
    {
      "cell_type": "code",
      "source": [
        "# Create a dictionary mapping numbers 1–5 to their squares\n",
        "squares = {x: x**2 for x in range(1, 6)}\n",
        "\n",
        "# Print the dictionary\n",
        "print(\"Number-Square dictionary:\", squares)\n"
      ],
      "metadata": {
        "colab": {
          "base_uri": "https://localhost:8080/"
        },
        "id": "iTWqy2R3ssZM",
        "outputId": "b138c6f0-8853-4967-a193-456c34ee1c1f"
      },
      "execution_count": 17,
      "outputs": [
        {
          "output_type": "stream",
          "name": "stdout",
          "text": [
            "Number-Square dictionary: {1: 1, 2: 4, 3: 9, 4: 16, 5: 25}\n"
          ]
        }
      ]
    },
    {
      "cell_type": "code",
      "source": [
        "# Given dictionary\n",
        "country = {\"India\": \"New Delhi\", \"France\": \"Paris\", \"Japan\": \"Tokyo\"}\n",
        "\n",
        "# Print countries and capitals in the given format\n",
        "for name, capital in country.items():\n",
        "    print(f\"The capital of {name} is {capital}\")\n"
      ],
      "metadata": {
        "colab": {
          "base_uri": "https://localhost:8080/"
        },
        "id": "qn1HUR6ltNeQ",
        "outputId": "801b216d-a004-4f8f-c7ee-19c81d281d66"
      },
      "execution_count": 18,
      "outputs": [
        {
          "output_type": "stream",
          "name": "stdout",
          "text": [
            "The capital of India is New Delhi\n",
            "The capital of France is Paris\n",
            "The capital of Japan is Tokyo\n"
          ]
        }
      ]
    },
    {
      "cell_type": "code",
      "source": [
        "# Given dictionaries\n",
        "dict1 = {'a': 100, 'b': 200}\n",
        "dict2 = {'x': 300, 'y': 200}\n",
        "\n",
        "# Merge the two dictionaries\n",
        "merged_dict = {**dict1, **dict2}\n",
        "\n",
        "# Print the merged dictionary\n",
        "print(\"Merged dictionary:\", merged_dict)\n"
      ],
      "metadata": {
        "colab": {
          "base_uri": "https://localhost:8080/"
        },
        "id": "McN7RoVwtm5V",
        "outputId": "5317e804-86cc-4276-cb81-070256add66f"
      },
      "execution_count": 19,
      "outputs": [
        {
          "output_type": "stream",
          "name": "stdout",
          "text": [
            "Merged dictionary: {'a': 100, 'b': 200, 'x': 300, 'y': 200}\n"
          ]
        }
      ]
    },
    {
      "cell_type": "code",
      "source": [
        "# Given dictionaries\n",
        "dict1 = {'a': 100, 'b': 200}\n",
        "dict2 = {'x': 300, 'y': 200}\n",
        "\n",
        "# Method 1: Using the update() method\n",
        "merged_dict = dict1.copy()   # Make a copy of dict1\n",
        "merged_dict.update(dict2)    # Add all key-value pairs from dict2\n",
        "\n",
        "print(\"Merged Dictionary:\", merged_dict)\n"
      ],
      "metadata": {
        "colab": {
          "base_uri": "https://localhost:8080/"
        },
        "id": "O4yeXQ34zRuC",
        "outputId": "66cbee89-8fa6-4f5e-b6f7-55142cd4f320"
      },
      "execution_count": 20,
      "outputs": [
        {
          "output_type": "stream",
          "name": "stdout",
          "text": [
            "Merged Dictionary: {'a': 100, 'b': 200, 'x': 300, 'y': 200}\n"
          ]
        }
      ]
    },
    {
      "cell_type": "code",
      "source": [
        "# Given dictionary\n",
        "marks = {\"Riya\": 85, \"Amit\": 78, \"Tanya\": 92, \"Karan\": 67}\n",
        "\n",
        "# 1. Print the highest-scoring student\n",
        "topper = max(marks, key=marks.get)\n",
        "print(\"Highest scoring student:\", topper, \"with\", marks[topper], \"marks\")\n",
        "\n",
        "# 2. Compute the average marks\n",
        "average = sum(marks.values()) / len(marks)\n",
        "print(\"Average marks:\", average)\n",
        "\n",
        "# 3. Create a new dictionary with students scoring >80\n",
        "above_80 = {name: score for name, score in marks.items() if score > 80}\n",
        "print(\"Students scoring above 80:\", above_80)\n"
      ],
      "metadata": {
        "colab": {
          "base_uri": "https://localhost:8080/"
        },
        "id": "rS5v5YpWzmm9",
        "outputId": "1c62b9e0-5ef0-4686-a36f-36b4734a1e72"
      },
      "execution_count": 21,
      "outputs": [
        {
          "output_type": "stream",
          "name": "stdout",
          "text": [
            "Highest scoring student: Tanya with 92 marks\n",
            "Average marks: 80.5\n",
            "Students scoring above 80: {'Riya': 85, 'Tanya': 92}\n"
          ]
        }
      ]
    },
    {
      "cell_type": "code",
      "source": [
        "# Original dictionary: employee → department\n",
        "employees = {\n",
        "    \"Riya\": \"HR\",\n",
        "    \"Amit\": \"IT\",\n",
        "    \"Tanya\": \"Finance\",\n",
        "    \"Karan\": \"IT\",\n",
        "    \"Neha\": \"HR\"\n",
        "}\n",
        "\n",
        "# Reverse the dictionary: department → list of employees\n",
        "departments = {}\n",
        "\n",
        "for name, dept in employees.items():\n",
        "    departments.setdefault(dept, []).append(name)\n",
        "\n",
        "print(\"Employees grouped by department:\")\n",
        "print(departments)\n"
      ],
      "metadata": {
        "colab": {
          "base_uri": "https://localhost:8080/"
        },
        "id": "l26MwVQjzy-p",
        "outputId": "773571f7-0e01-446b-c7fe-971d61810f6c"
      },
      "execution_count": 22,
      "outputs": [
        {
          "output_type": "stream",
          "name": "stdout",
          "text": [
            "Employees grouped by department:\n",
            "{'HR': ['Riya', 'Neha'], 'IT': ['Amit', 'Karan'], 'Finance': ['Tanya']}\n"
          ]
        }
      ]
    },
    {
      "cell_type": "code",
      "source": [
        "# Given dictionary\n",
        "data = {\"a\": 50, \"b\": 120, \"c\": 85, \"d\": 100}\n",
        "\n",
        "# Find the key with the maximum value\n",
        "max_key = max(data, key=data.get)\n",
        "\n",
        "print(\"Key with the maximum value:\", max_key)\n",
        "print(\"Maximum value:\", data[max_key])\n"
      ],
      "metadata": {
        "colab": {
          "base_uri": "https://localhost:8080/"
        },
        "id": "Qfbs96SD0J3c",
        "outputId": "ef845417-8d81-447c-de2b-4e83075d1f35"
      },
      "execution_count": 23,
      "outputs": [
        {
          "output_type": "stream",
          "name": "stdout",
          "text": [
            "Key with the maximum value: b\n",
            "Maximum value: 120\n"
          ]
        }
      ]
    },
    {
      "cell_type": "code",
      "source": [
        "# Nested dictionary of employees\n",
        "employees = {\n",
        "    \"emp1\": {\"name\": \"Riya\", \"salary\": 50000, \"dept\": \"IT\"},\n",
        "    \"emp2\": {\"name\": \"Amit\", \"salary\": 60000, \"dept\": \"HR\"},\n",
        "    \"emp3\": {\"name\": \"Tanya\", \"salary\": 55000, \"dept\": \"Finance\"}\n",
        "}\n",
        "\n",
        "# Print names of employees with salary > 55000\n",
        "print(\"Employees with salary > 55000:\")\n",
        "for emp_id, details in employees.items():\n",
        "    if details[\"salary\"] > 55000:\n",
        "        print(details[\"name\"])\n"
      ],
      "metadata": {
        "colab": {
          "base_uri": "https://localhost:8080/"
        },
        "id": "6m2Q1BN50x6m",
        "outputId": "ed910fca-73ac-44d0-bc73-c3158eb99ec2"
      },
      "execution_count": 24,
      "outputs": [
        {
          "output_type": "stream",
          "name": "stdout",
          "text": [
            "Employees with salary > 55000:\n",
            "Amit\n"
          ]
        }
      ]
    },
    {
      "cell_type": "code",
      "source": [
        "# Given nested dictionary\n",
        "students = {\n",
        "    \"A101\": {\"name\": \"Riya\", \"marks\": [78, 89, 91]},\n",
        "    \"A102\": {\"name\": \"Karan\", \"marks\": [55, 60, 65]},\n",
        "    \"A103\": {\"name\": \"Tanya\", \"marks\": [92, 88, 95]},\n",
        "}\n",
        "\n",
        "# Process each student\n",
        "for sid, info in students.items():\n",
        "    total = sum(info[\"marks\"])\n",
        "    avg = total / len(info[\"marks\"])\n",
        "    info[\"total\"] = total\n",
        "    info[\"average\"] = avg\n",
        "    info[\"result\"] = \"Pass\" if avg >= 60 else \"Fail\"\n",
        "\n",
        "# Display student summaries\n",
        "print(\"Student Summaries:\\n\")\n",
        "for sid, info in students.items():\n",
        "    print(f\"ID: {sid}\")\n",
        "    print(f\"Name: {info['name']}\")\n",
        "    print(f\"Marks: {info['marks']}\")\n",
        "    print(f\"Total: {info['total']}\")\n",
        "    print(f\"Average: {info['average']:.2f}\")\n",
        "    print(f\"Result: {info['result']}\")\n",
        "    print(\"-\" * 30)\n"
      ],
      "metadata": {
        "colab": {
          "base_uri": "https://localhost:8080/"
        },
        "id": "r2QaCHwu08-C",
        "outputId": "ff400f21-f131-428c-f4b8-e4cc40f8fd75"
      },
      "execution_count": 25,
      "outputs": [
        {
          "output_type": "stream",
          "name": "stdout",
          "text": [
            "Student Summaries:\n",
            "\n",
            "ID: A101\n",
            "Name: Riya\n",
            "Marks: [78, 89, 91]\n",
            "Total: 258\n",
            "Average: 86.00\n",
            "Result: Pass\n",
            "------------------------------\n",
            "ID: A102\n",
            "Name: Karan\n",
            "Marks: [55, 60, 65]\n",
            "Total: 180\n",
            "Average: 60.00\n",
            "Result: Pass\n",
            "------------------------------\n",
            "ID: A103\n",
            "Name: Tanya\n",
            "Marks: [92, 88, 95]\n",
            "Total: 275\n",
            "Average: 91.67\n",
            "Result: Pass\n",
            "------------------------------\n"
          ]
        }
      ]
    },
    {
      "cell_type": "code",
      "source": [
        "# Given nested dictionary\n",
        "orders = {\n",
        "    \"ORD101\": {\"customer\": \"Riya\", \"items\": {\"bag\": 1200, \"shoes\": 2500}},\n",
        "    \"ORD102\": {\"customer\": \"Amit\", \"items\": {\"watch\": 1800}},\n",
        "    \"ORD103\": {\"customer\": \"Tanya\", \"items\": {\"bag\": 1500, \"belt\": 800}}\n",
        "}\n",
        "\n",
        "# Calculate total cost per order\n",
        "for oid, details in orders.items():\n",
        "    total = sum(details[\"items\"].values())\n",
        "    details[\"total\"] = total  # Add total to each order\n",
        "\n",
        "# Print customer name and total\n",
        "print(\"Order Summaries:\\n\")\n",
        "for oid, details in orders.items():\n",
        "    print(f\"Order ID: {oid}\")\n",
        "    print(f\"Customer: {details['customer']}\")\n",
        "    print(f\"Total Amount: ₹{details['total']}\")\n",
        "    print(\"-\" * 30)\n",
        "\n",
        "# Find order with maximum total\n",
        "max_order = max(orders, key=lambda x: orders[x][\"total\"])\n",
        "print(f\"\\nOrder with maximum total: {max_order}\")\n",
        "print(f\"Customer: {orders[max_order]['customer']}\")\n",
        "print(f\"Total Amount: ₹{orders[max_order]['total']}\")\n"
      ],
      "metadata": {
        "colab": {
          "base_uri": "https://localhost:8080/"
        },
        "id": "zRHpABuH1Kuc",
        "outputId": "8f0c5c4b-97cf-4171-8b35-409ae6a3158d"
      },
      "execution_count": 26,
      "outputs": [
        {
          "output_type": "stream",
          "name": "stdout",
          "text": [
            "Order Summaries:\n",
            "\n",
            "Order ID: ORD101\n",
            "Customer: Riya\n",
            "Total Amount: ₹3700\n",
            "------------------------------\n",
            "Order ID: ORD102\n",
            "Customer: Amit\n",
            "Total Amount: ₹1800\n",
            "------------------------------\n",
            "Order ID: ORD103\n",
            "Customer: Tanya\n",
            "Total Amount: ₹2300\n",
            "------------------------------\n",
            "\n",
            "Order with maximum total: ORD101\n",
            "Customer: Riya\n",
            "Total Amount: ₹3700\n"
          ]
        }
      ]
    },
    {
      "cell_type": "code",
      "source": [
        "# Given performance data\n",
        "performance = {\n",
        "    \"emp1\": {\"Q1\": 78, \"Q2\": 82, \"Q3\": 85, \"Q4\": 90},\n",
        "    \"emp2\": {\"Q1\": 88, \"Q2\": 91, \"Q3\": 79, \"Q4\": 84},\n",
        "    \"emp3\": {\"Q1\": 60, \"Q2\": 65, \"Q3\": 70, \"Q4\": 75}\n",
        "}\n",
        "\n",
        "# 1️⃣ Calculate annual average score per employee\n",
        "avg_scores = {}\n",
        "for emp_id, scores in performance.items():\n",
        "    avg = sum(scores.values()) / len(scores)\n",
        "    avg_scores[emp_id] = avg\n",
        "\n",
        "# 2️⃣ Identify top performer(s)\n",
        "max_avg = max(avg_scores.values())\n",
        "top_performers = [emp for emp, avg in avg_scores.items() if avg == max_avg]\n",
        "\n",
        "# 3️⃣ Display results\n",
        "print(\"Average Scores per Employee:\")\n",
        "for emp, avg in avg_scores.items():\n",
        "    print(f\"{emp}: {avg:.2f}\")\n",
        "\n",
        "print(\"\\nTop Performer(s):\", \", \".join(top_performers))\n",
        "print(\"Highest Average Score:\", max_avg)\n"
      ],
      "metadata": {
        "colab": {
          "base_uri": "https://localhost:8080/"
        },
        "id": "pBgeV32I1a64",
        "outputId": "f38141db-d681-4959-8133-8dd7ac5b1454"
      },
      "execution_count": 27,
      "outputs": [
        {
          "output_type": "stream",
          "name": "stdout",
          "text": [
            "Average Scores per Employee:\n",
            "emp1: 83.75\n",
            "emp2: 85.50\n",
            "emp3: 67.50\n",
            "\n",
            "Top Performer(s): emp2\n",
            "Highest Average Score: 85.5\n"
          ]
        }
      ]
    },
    {
      "cell_type": "code",
      "source": [
        "# Given dictionary\n",
        "accounts = {\n",
        "    \"AC001\": {\"name\": \"Riya\", \"balance\": 5000},\n",
        "    \"AC002\": {\"name\": \"Karan\", \"balance\": 3000},\n",
        "    \"AC003\": {\"name\": \"Tanya\", \"balance\": 7000},\n",
        "}\n",
        "\n",
        "# 1️⃣ Deposit ₹2000 to \"AC002\"\n",
        "accounts[\"AC002\"][\"balance\"] += 2000\n",
        "\n",
        "# 2️⃣ Withdraw ₹1500 from \"AC001\"\n",
        "accounts[\"AC001\"][\"balance\"] -= 1500\n",
        "\n",
        "# 3️⃣ Find accounts with balance above ₹5000\n",
        "rich_accounts = {acc_id: info for acc_id, info in accounts.items() if info[\"balance\"] > 5000}\n",
        "\n",
        "# 4️⃣ Display the summary\n",
        "print(\"Account Summaries:\\n\")\n",
        "for acc_id, info in accounts.items():\n",
        "    print(f\"Account ID: {acc_id}\")\n",
        "    print(f\"Name: {info['name']}\")\n",
        "    print(f\"Balance: ₹{info['balance']}\")\n",
        "    print(\"-\" * 30)\n",
        "\n",
        "print(\"\\nAccounts with balance above ₹5000:\")\n",
        "for acc_id, info in rich_accounts.items():\n",
        "    print(f\"{acc_id} - {info['name']} (₹{info['balance']})\")\n"
      ],
      "metadata": {
        "colab": {
          "base_uri": "https://localhost:8080/"
        },
        "id": "rPB5AYSI1j5n",
        "outputId": "99b454ed-0edc-45cb-9ec2-0860de8a1ba6"
      },
      "execution_count": 28,
      "outputs": [
        {
          "output_type": "stream",
          "name": "stdout",
          "text": [
            "Account Summaries:\n",
            "\n",
            "Account ID: AC001\n",
            "Name: Riya\n",
            "Balance: ₹3500\n",
            "------------------------------\n",
            "Account ID: AC002\n",
            "Name: Karan\n",
            "Balance: ₹5000\n",
            "------------------------------\n",
            "Account ID: AC003\n",
            "Name: Tanya\n",
            "Balance: ₹7000\n",
            "------------------------------\n",
            "\n",
            "Accounts with balance above ₹5000:\n",
            "AC003 - Tanya (₹7000)\n"
          ]
        }
      ]
    },
    {
      "cell_type": "code",
      "source": [
        "# Given lists\n",
        "names = [\"Riya\", \"Karan\", \"Amit\"]\n",
        "ages = [19, 20, 18]\n",
        "courses = [\"BCA\", \"B.Tech\", \"B.Com\"]\n",
        "\n",
        "# 1️⃣ Build the dictionary\n",
        "students = {name: {\"age\": age, \"course\": course}\n",
        "            for name, age, course in zip(names, ages, courses)}\n",
        "\n",
        "# 2️⃣ Print all student names and courses\n",
        "print(\"Student Details:\\n\")\n",
        "for name, info in students.items():\n",
        "    print(f\"{name} → {info['course']}\")\n",
        "\n",
        "# 3️⃣ Find the youngest student\n",
        "youngest = min(students, key=lambda x: students[x][\"age\"])\n",
        "print(f\"\\nYoungest Student: {youngest} ({students[youngest]['age']} years)\")\n"
      ],
      "metadata": {
        "colab": {
          "base_uri": "https://localhost:8080/"
        },
        "id": "TvPOUk0u1xAW",
        "outputId": "9ba5cb0f-b150-4de9-ed7f-4f66457b0023"
      },
      "execution_count": 29,
      "outputs": [
        {
          "output_type": "stream",
          "name": "stdout",
          "text": [
            "Student Details:\n",
            "\n",
            "Riya → BCA\n",
            "Karan → B.Tech\n",
            "Amit → B.Com\n",
            "\n",
            "Youngest Student: Amit (18 years)\n"
          ]
        }
      ]
    }
  ]
}